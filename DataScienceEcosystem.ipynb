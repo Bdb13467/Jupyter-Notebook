{
 "cells": [
  {
   "cell_type": "markdown",
   "id": "684feec5-da4b-47ca-a395-1cf25127befc",
   "metadata": {},
   "source": [
    "# Data Science Tools and Ecosystem"
   ]
  },
  {
   "cell_type": "markdown",
   "id": "4c8a8ccd-3d3c-4513-89cd-5f6e6d2ec3f1",
   "metadata": {},
   "source": [
    "In this notebook, Data Science Tools and Ecosysytems are summarized"
   ]
  },
  {
   "cell_type": "markdown",
   "id": "e52048de-47c7-4de3-84fa-41e83b8ce999",
   "metadata": {},
   "source": [
    "**Objectives**\n",
    "\n",
    "- List popular languages for Data Science\n",
    "- List coomom libraries used by Data Scientist\n",
    "- Evaluating arithmic expressions\n",
    "- Data Science Tool and Ecosystems"
   ]
  },
  {
   "cell_type": "markdown",
   "id": "ff3cc14e-ce4c-4c51-84fb-3c23585c1371",
   "metadata": {},
   "source": [
    "Some of the popular languagues that Data Scienctist use are\n",
    "\n",
    "1. SQL\n",
    "2. Python\n",
    "3. C++\n",
    "4. Javascript"
   ]
  },
  {
   "cell_type": "markdown",
   "id": "9de3ba51-e5a5-406d-aee9-09e6ea56e4a7",
   "metadata": {},
   "source": [
    "Some of the commonly used libraries used by Data Scientists include:\n",
    "\n",
    "1. Panda\n",
    "2. Numpy\n",
    "3. Metplotlib\n",
    "4. Seaborn"
   ]
  },
  {
   "cell_type": "markdown",
   "id": "80b0338c-b165-4600-a661-3b4b97a113a5",
   "metadata": {},
   "source": [
    "| Data Science Tools |\n",
    "|--------------------|\n",
    "| MySql |\n",
    "| ApacheSpark |\n",
    "| Metplotlib |\n",
    "| RStudio |"
   ]
  },
  {
   "cell_type": "markdown",
   "id": "d79695f5-7b03-417a-9a1a-4303632ea553",
   "metadata": {},
   "source": [
    "### Below are a few examples of evaluating arithmetic expressions in Python"
   ]
  },
  {
   "cell_type": "code",
   "execution_count": 1,
   "id": "a2ecc35d-ff09-48e5-bd40-e8778197f73f",
   "metadata": {},
   "outputs": [
    {
     "data": {
      "text/plain": [
       "17"
      ]
     },
     "execution_count": 1,
     "metadata": {},
     "output_type": "execute_result"
    }
   ],
   "source": [
    "(3*4)+5\n",
    "# This a simple arithmetic expression to multiply then add integers"
   ]
  },
  {
   "cell_type": "code",
   "execution_count": 4,
   "id": "b7c7aa39-3ac0-4537-8efb-8c0b0ac2d648",
   "metadata": {},
   "outputs": [
    {
     "name": "stdout",
     "output_type": "stream",
     "text": [
      "3.3333333333333335\n"
     ]
    }
   ],
   "source": [
    "minutes = 200\n",
    "hours = minutes /60\n",
    "print(hours)"
   ]
  },
  {
   "cell_type": "markdown",
   "id": "a374231a-b8d3-4495-8667-0f86cb4b355b",
   "metadata": {},
   "source": [
    "## Author\n",
    "Bracey Wright"
   ]
  },
  {
   "cell_type": "code",
   "execution_count": null,
   "id": "6f7f989d-c2a5-4fcd-81a0-8d39d40a7038",
   "metadata": {},
   "outputs": [],
   "source": []
  }
 ],
 "metadata": {
  "kernelspec": {
   "display_name": "Python 3 (ipykernel)",
   "language": "python",
   "name": "python3"
  },
  "language_info": {
   "codemirror_mode": {
    "name": "ipython",
    "version": 3
   },
   "file_extension": ".py",
   "mimetype": "text/x-python",
   "name": "python",
   "nbconvert_exporter": "python",
   "pygments_lexer": "ipython3",
   "version": "3.11.9"
  }
 },
 "nbformat": 4,
 "nbformat_minor": 5
}
